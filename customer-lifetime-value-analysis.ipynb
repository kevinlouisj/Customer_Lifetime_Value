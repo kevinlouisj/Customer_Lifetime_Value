{
 "cells": [
  {
   "cell_type": "code",
   "execution_count": 1,
   "id": "b8733e29",
   "metadata": {
    "_cell_guid": "b1076dfc-b9ad-4769-8c92-a6c4dae69d19",
    "_uuid": "8f2839f25d086af736a60e9eeb907d3b93b6e0e5",
    "execution": {
     "iopub.execute_input": "2022-10-15T21:16:12.495260Z",
     "iopub.status.busy": "2022-10-15T21:16:12.494255Z",
     "iopub.status.idle": "2022-10-15T21:16:12.528594Z",
     "shell.execute_reply": "2022-10-15T21:16:12.525516Z"
    },
    "papermill": {
     "duration": 0.043054,
     "end_time": "2022-10-15T21:16:12.531855",
     "exception": false,
     "start_time": "2022-10-15T21:16:12.488801",
     "status": "completed"
    },
    "tags": []
   },
   "outputs": [
    {
     "name": "stdout",
     "output_type": "stream",
     "text": [
      "/kaggle/input/job-interview-assignments-test/Task 2 Mall_Customer_segmentation.csv\n",
      "/kaggle/input/job-interview-assignments-test/Task 4 perform Cohort on CDNOW dataset.txt\n",
      "/kaggle/input/job-interview-assignments-test/Task 5.csv\n",
      "/kaggle/input/job-interview-assignments-test/Task 1 PM Assignments - Raw Data.csv\n",
      "/kaggle/input/job-interview-assignments-test/Task 3 sales_06_FY2020-21.csv/sales_06_FY2020-21 copy.csv\n"
     ]
    }
   ],
   "source": [
    "# This Python 3 environment comes with many helpful analytics libraries installed\n",
    "# It is defined by the kaggle/python Docker image: https://github.com/kaggle/docker-python\n",
    "# For example, here's several helpful packages to load\n",
    "\n",
    "import numpy as np # linear algebra\n",
    "import pandas as pd # data processing, CSV file I/O (e.g. pd.read_csv)\n",
    "\n",
    "# Input data files are available in the read-only \"../input/\" directory\n",
    "# For example, running this (by clicking run or pressing Shift+Enter) will list all files under the input directory\n",
    "\n",
    "import os\n",
    "for dirname, _, filenames in os.walk('/kaggle/input'):\n",
    "    for filename in filenames:\n",
    "        print(os.path.join(dirname, filename))\n",
    "\n",
    "# You can write up to 20GB to the current directory (/kaggle/working/) that gets preserved as output when you create a version using \"Save & Run All\" \n",
    "# You can also write temporary files to /kaggle/temp/, but they won't be saved outside of the current session"
   ]
  },
  {
   "cell_type": "code",
   "execution_count": 2,
   "id": "06f83a99",
   "metadata": {
    "execution": {
     "iopub.execute_input": "2022-10-15T21:16:12.539283Z",
     "iopub.status.busy": "2022-10-15T21:16:12.537931Z",
     "iopub.status.idle": "2022-10-15T21:16:12.650796Z",
     "shell.execute_reply": "2022-10-15T21:16:12.649924Z"
    },
    "papermill": {
     "duration": 0.119111,
     "end_time": "2022-10-15T21:16:12.653493",
     "exception": false,
     "start_time": "2022-10-15T21:16:12.534382",
     "status": "completed"
    },
    "tags": []
   },
   "outputs": [
    {
     "data": {
      "text/html": [
       "<div>\n",
       "<style scoped>\n",
       "    .dataframe tbody tr th:only-of-type {\n",
       "        vertical-align: middle;\n",
       "    }\n",
       "\n",
       "    .dataframe tbody tr th {\n",
       "        vertical-align: top;\n",
       "    }\n",
       "\n",
       "    .dataframe thead th {\n",
       "        text-align: right;\n",
       "    }\n",
       "</style>\n",
       "<table border=\"1\" class=\"dataframe\">\n",
       "  <thead>\n",
       "    <tr style=\"text-align: right;\">\n",
       "      <th></th>\n",
       "      <th>customer_id</th>\n",
       "      <th>date</th>\n",
       "      <th>quantity</th>\n",
       "      <th>price</th>\n",
       "    </tr>\n",
       "  </thead>\n",
       "  <tbody>\n",
       "    <tr>\n",
       "      <th>0</th>\n",
       "      <td>1</td>\n",
       "      <td>19970101</td>\n",
       "      <td>1</td>\n",
       "      <td>11.77</td>\n",
       "    </tr>\n",
       "    <tr>\n",
       "      <th>1</th>\n",
       "      <td>2</td>\n",
       "      <td>19970112</td>\n",
       "      <td>1</td>\n",
       "      <td>12.00</td>\n",
       "    </tr>\n",
       "    <tr>\n",
       "      <th>2</th>\n",
       "      <td>2</td>\n",
       "      <td>19970112</td>\n",
       "      <td>5</td>\n",
       "      <td>77.00</td>\n",
       "    </tr>\n",
       "    <tr>\n",
       "      <th>3</th>\n",
       "      <td>3</td>\n",
       "      <td>19970102</td>\n",
       "      <td>2</td>\n",
       "      <td>20.76</td>\n",
       "    </tr>\n",
       "    <tr>\n",
       "      <th>4</th>\n",
       "      <td>3</td>\n",
       "      <td>19970330</td>\n",
       "      <td>2</td>\n",
       "      <td>20.76</td>\n",
       "    </tr>\n",
       "    <tr>\n",
       "      <th>...</th>\n",
       "      <td>...</td>\n",
       "      <td>...</td>\n",
       "      <td>...</td>\n",
       "      <td>...</td>\n",
       "    </tr>\n",
       "    <tr>\n",
       "      <th>69654</th>\n",
       "      <td>23568</td>\n",
       "      <td>19970405</td>\n",
       "      <td>4</td>\n",
       "      <td>83.74</td>\n",
       "    </tr>\n",
       "    <tr>\n",
       "      <th>69655</th>\n",
       "      <td>23568</td>\n",
       "      <td>19970422</td>\n",
       "      <td>1</td>\n",
       "      <td>14.99</td>\n",
       "    </tr>\n",
       "    <tr>\n",
       "      <th>69656</th>\n",
       "      <td>23569</td>\n",
       "      <td>19970325</td>\n",
       "      <td>2</td>\n",
       "      <td>25.74</td>\n",
       "    </tr>\n",
       "    <tr>\n",
       "      <th>69657</th>\n",
       "      <td>23570</td>\n",
       "      <td>19970325</td>\n",
       "      <td>3</td>\n",
       "      <td>51.12</td>\n",
       "    </tr>\n",
       "    <tr>\n",
       "      <th>69658</th>\n",
       "      <td>23570</td>\n",
       "      <td>19970326</td>\n",
       "      <td>2</td>\n",
       "      <td>42.96</td>\n",
       "    </tr>\n",
       "  </tbody>\n",
       "</table>\n",
       "<p>69659 rows × 4 columns</p>\n",
       "</div>"
      ],
      "text/plain": [
       "       customer_id      date  quantity  price\n",
       "0                1  19970101         1  11.77\n",
       "1                2  19970112         1  12.00\n",
       "2                2  19970112         5  77.00\n",
       "3                3  19970102         2  20.76\n",
       "4                3  19970330         2  20.76\n",
       "...            ...       ...       ...    ...\n",
       "69654        23568  19970405         4  83.74\n",
       "69655        23568  19970422         1  14.99\n",
       "69656        23569  19970325         2  25.74\n",
       "69657        23570  19970325         3  51.12\n",
       "69658        23570  19970326         2  42.96\n",
       "\n",
       "[69659 rows x 4 columns]"
      ]
     },
     "execution_count": 2,
     "metadata": {},
     "output_type": "execute_result"
    }
   ],
   "source": [
    "df= pd.read_csv('../input/job-interview-assignments-test/Task 4 perform Cohort on CDNOW dataset.txt', \n",
    "                names=[\"customer_id\", 'date', 'quantity', 'price'], sep = \"\\s+\")\n",
    "df"
   ]
  },
  {
   "cell_type": "code",
   "execution_count": null,
   "id": "cefa3c41",
   "metadata": {
    "papermill": {
     "duration": 0.002386,
     "end_time": "2022-10-15T21:16:12.659883",
     "exception": false,
     "start_time": "2022-10-15T21:16:12.657497",
     "status": "completed"
    },
    "tags": []
   },
   "outputs": [],
   "source": []
  },
  {
   "cell_type": "code",
   "execution_count": null,
   "id": "6470248c",
   "metadata": {
    "papermill": {
     "duration": 0.002843,
     "end_time": "2022-10-15T21:16:12.666358",
     "exception": false,
     "start_time": "2022-10-15T21:16:12.663515",
     "status": "completed"
    },
    "tags": []
   },
   "outputs": [],
   "source": []
  },
  {
   "cell_type": "code",
   "execution_count": null,
   "id": "d8bf2bdc",
   "metadata": {
    "papermill": {
     "duration": 0.002147,
     "end_time": "2022-10-15T21:16:12.671120",
     "exception": false,
     "start_time": "2022-10-15T21:16:12.668973",
     "status": "completed"
    },
    "tags": []
   },
   "outputs": [],
   "source": []
  }
 ],
 "metadata": {
  "kernelspec": {
   "display_name": "Python 3",
   "language": "python",
   "name": "python3"
  },
  "language_info": {
   "codemirror_mode": {
    "name": "ipython",
    "version": 3
   },
   "file_extension": ".py",
   "mimetype": "text/x-python",
   "name": "python",
   "nbconvert_exporter": "python",
   "pygments_lexer": "ipython3",
   "version": "3.7.12"
  },
  "papermill": {
   "default_parameters": {},
   "duration": 9.793281,
   "end_time": "2022-10-15T21:16:13.297850",
   "environment_variables": {},
   "exception": null,
   "input_path": "__notebook__.ipynb",
   "output_path": "__notebook__.ipynb",
   "parameters": {},
   "start_time": "2022-10-15T21:16:03.504569",
   "version": "2.3.4"
  }
 },
 "nbformat": 4,
 "nbformat_minor": 5
}
